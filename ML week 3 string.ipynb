{
 "cells": [
  {
   "cell_type": "markdown",
   "id": "488fc12d",
   "metadata": {},
   "source": [
    "## String a collection of characters , which can work like arrays of Characters\n"
   ]
  },
  {
   "cell_type": "markdown",
   "id": "5daed6a9",
   "metadata": {},
   "source": [
    "Convert Char into ascii value  using ord()"
   ]
  },
  {
   "cell_type": "code",
   "execution_count": 3,
   "id": "2840f186",
   "metadata": {},
   "outputs": [],
   "source": [
    "char =input(\"Enter your char: \")\n",
    "val =ord(char)\n",
    "print(f\"ASCII VLAUE OF {char} is {val}\")"
   ]
  },
  {
   "cell_type": "markdown",
   "id": "0129838f",
   "metadata": {},
   "source": [
    "Concating Operations"
   ]
  },
  {
   "cell_type": "code",
   "execution_count": null,
   "id": "78854dc7",
   "metadata": {},
   "outputs": [
    {
     "name": "stdout",
     "output_type": "stream",
     "text": [
      "After Concating Hello  and World is output will Hello World\n"
     ]
    }
   ],
   "source": [
    "String1= \"Hello \"\n",
    "String2 =\"World\"\n",
    "new_str= String1+ String2\n",
    "print(f\"After Concating {String1} and {String2} is output will {new_str}\")"
   ]
  },
  {
   "cell_type": "raw",
   "id": "e052a4f4",
   "metadata": {},
   "source": [
    "Find substring from specific Index"
   ]
  },
  {
   "cell_type": "code",
   "execution_count": null,
   "id": "bd9d095f",
   "metadata": {},
   "outputs": [
    {
     "name": "stdout",
     "output_type": "stream",
     "text": [
      ",This is My\n"
     ]
    }
   ],
   "source": [
    "text =\"Hello,This is My Code\"\n",
    "print(text[5:16]) # From 5th Index to 15 index"
   ]
  },
  {
   "cell_type": "markdown",
   "id": "be4e6f7b",
   "metadata": {},
   "source": [
    "Find Length of string"
   ]
  },
  {
   "cell_type": "code",
   "execution_count": null,
   "id": "018f1bba",
   "metadata": {},
   "outputs": [
    {
     "data": {
      "text/plain": [
       "21"
      ]
     },
     "execution_count": 19,
     "metadata": {},
     "output_type": "execute_result"
    }
   ],
   "source": [
    "len(text)"
   ]
  },
  {
   "cell_type": "raw",
   "id": "70b854a1",
   "metadata": {},
   "source": [
    "Replacing Specific char with new val"
   ]
  },
  {
   "cell_type": "code",
   "execution_count": null,
   "id": "9d205894",
   "metadata": {},
   "outputs": [
    {
     "name": "stdout",
     "output_type": "stream",
     "text": [
      "123 Elm Street, Apartment 4B, New York, NY\n"
     ]
    }
   ],
   "source": [
    " address = \"123 Elm Street, Apt 4B, New York, NY\"\n",
    " formatted_address = address.replace(\"Apt\", \"Apartment\") # Apt replace with Apartment\n",
    " print(formatted_address)"
   ]
  },
  {
   "cell_type": "markdown",
   "id": "7b9fe8a9",
   "metadata": {},
   "source": [
    "Different  Cases Tranformation"
   ]
  },
  {
   "cell_type": "code",
   "execution_count": null,
   "id": "2554846f",
   "metadata": {},
   "outputs": [
    {
     "name": "stdout",
     "output_type": "stream",
     "text": [
      "HELLO,THIS IS MY CODE\n",
      "hello,this is my code\n",
      "Hello,This Is My Code\n"
     ]
    }
   ],
   "source": [
    "upper_text = text.upper()  # Convert to uppercase\n",
    "lower_text = text.lower()  # Convert to lowercase\n",
    "title_text = text.title()  # Convert to title case\n",
    "print(upper_text)  \n",
    "print(lower_text)  \n",
    "print(title_text)"
   ]
  },
  {
   "cell_type": "markdown",
   "id": "15c9a58d",
   "metadata": {},
   "source": [
    "Finding IN STRING "
   ]
  },
  {
   "cell_type": "code",
   "execution_count": null,
   "id": "7509237b",
   "metadata": {},
   "outputs": [
    {
     "name": "stdout",
     "output_type": "stream",
     "text": [
      "The genetic pattern was found in the DNA sequence.\n"
     ]
    }
   ],
   "source": [
    "#Real-world analogy: Identifying a specific genetic sequence in a DNA sample.\n",
    "dna_sequence = \"ACGTAGTCGACTGAGTACGTA\"\n",
    "search_pattern = \"TACGTA\"\n",
    "if search_pattern in dna_sequence:\n",
    "    \n",
    "     print(\"The genetic pattern was found in the DNA sequence.\")\n",
    "else:\n",
    "     print(\"The genetic pattern was not found in the DNA sequence.\")"
   ]
  },
  {
   "cell_type": "markdown",
   "id": "937f27fa",
   "metadata": {},
   "source": []
  },
  {
   "cell_type": "markdown",
   "id": "69ccec3e",
   "metadata": {},
   "source": [
    "String Comparison"
   ]
  },
  {
   "cell_type": "code",
   "execution_count": null,
   "id": "1f89ccdd",
   "metadata": {},
   "outputs": [],
   "source": [
    "str1 = \"hello\"\n",
    "str2 = \"Hello\"\n",
    "\n",
    "# Case-sensitive comparison\n",
    "print(str1 == str2)  # Output: False\n",
    "\n",
    "# Case-insensitive comparison\n",
    "print(str1.lower() == str2.lower())  # Output: True\n"
   ]
  },
  {
   "cell_type": "markdown",
   "id": "cb57ab13",
   "metadata": {},
   "source": [
    " Common String Operations:"
   ]
  },
  {
   "cell_type": "code",
   "execution_count": null,
   "id": "f73e86c9",
   "metadata": {},
   "outputs": [],
   "source": [
    "str1 = \"Hello\"\n",
    "str2 = \"World\"\n",
    "\n",
    "# Concatenation\n",
    "result = str1 + \" \" + str2  # Output: Hello World\n",
    "\n",
    "# Repetition\n",
    "result = str1 * 3  # Output: HelloHelloHello\n",
    "\n",
    "# Slicing\n",
    "substring = str1[1:4]  # Output: ell\n",
    "\n",
    "# Length calculation\n",
    "length = len(str1)  # Output: 5\n"
   ]
  },
  {
   "cell_type": "markdown",
   "id": "0bb88310",
   "metadata": {},
   "source": [
    "Escape Sequences and Special Characters:"
   ]
  },
  {
   "cell_type": "code",
   "execution_count": null,
   "id": "fa6d0106",
   "metadata": {},
   "outputs": [],
   "source": [
    "# Newline and Tab\n",
    "escaped_str = \"Hello\\n\\tWorld\"\n",
    "\n",
    "# Double and Single Quote\n",
    "escaped_quotes = \"He said, \\\"Python is fun!\\\"\"\n",
    "\n",
    "print(escaped_str)\n",
    "print(escaped_quotes)\n"
   ]
  },
  {
   "cell_type": "markdown",
   "id": "d6e3a55e",
   "metadata": {},
   "source": [
    ". String Interpolation in Python:"
   ]
  },
  {
   "cell_type": "code",
   "execution_count": null,
   "id": "12773eae",
   "metadata": {},
   "outputs": [],
   "source": [
    "name = \"John\"\n",
    "age = 25\n",
    "\n",
    "# Using f-strings\n",
    "message = f\"My name is {name} and I am {age} years old.\"\n",
    "\n",
    "# Using format method\n",
    "message_format = \"My name is {} and I am {} years old.\".format(name, age)\n",
    "\n",
    "print(message)\n",
    "print(message_format)\n"
   ]
  }
 ],
 "metadata": {
  "kernelspec": {
   "display_name": "Python 3 (ipykernel)",
   "language": "python",
   "name": "python3"
  },
  "language_info": {
   "codemirror_mode": {
    "name": "ipython",
    "version": 3
   },
   "file_extension": ".py",
   "mimetype": "text/x-python",
   "name": "python",
   "nbconvert_exporter": "python",
   "pygments_lexer": "ipython3",
   "version": "3.11.2"
  }
 },
 "nbformat": 4,
 "nbformat_minor": 5
}
